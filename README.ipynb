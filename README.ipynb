{
 "cells": [
  {
   "attachments": {},
   "cell_type": "markdown",
   "metadata": {},
   "source": [
    "# Clarity\n",
    "\n",
    "Welcome to Clarity, the recipe for a perplexity.ai clone!\n",
    "\n",
    "If you're looking for a way to improve your understanding and gain clarity on any topic, this repo has got you covered.\n",
    "\n",
    "## What is Perplexity?\n",
    "\n",
    "With perplexity.ai, users can input search queries and receive summaries of top search results including sources. However, with this recipe, you are shown how to achieve similar results in just five simple steps!\n",
    "\n",
    "## The steps for reproduction\n",
    "\n",
    "This repo shows how you can get similar results to perplexity.ai using the following steps:\n",
    "\n",
    "1. Create search query from the input of the user\n",
    "   - The user creates a query then submits it to ChatGPT for ChatGPT to make a query out of it.\n",
    "2. Extract urls from the search query\n",
    "   - The query is submitted to a search engine, in this case DuckDuckGo, which returns urls.\n",
    "3. Extract the content from x amount of urls\n",
    "   - Take some urls and read the innerText content of it cutoff at around 2-3k tokens so there is room for a ChatGPT response which maxes out at about 4k tokens.\n",
    "4. Make a summary of the content\n",
    "   - The response of the previous step is the summary of the query. And because it loops x amount of urls you get multiple summaries, knowing the sources.\n",
    "5. _OPTIONAL_ Make a summary of all the summaries for the response\n",
    "   - It can be helpful to have a summary of the summaries, but it is not recommended to get sources from this, as they might be scrambled or contaminated."
   ]
  },
  {
   "cell_type": "code",
   "execution_count": null,
   "metadata": {
    "vscode": {
     "languageId": "javascript"
    }
   },
   "outputs": [],
   "source": [
    "import puppeteer from \"puppeteer\";\n",
    "import { Configuration, OpenAIApi } from 'openai';\n",
    "import * as dotenv from 'dotenv'\n",
    "dotenv.config()\n"
   ]
  },
  {
   "cell_type": "code",
   "execution_count": null,
   "metadata": {
    "vscode": {
     "languageId": "javascript"
    }
   },
   "outputs": [],
   "source": [
    "const configuration = new Configuration({\n",
    "    apiKey: process.env.API_KEY,\n",
    "});\n",
    "const openai = new OpenAIApi(configuration);\n",
    "\n",
    "export async function chat(chatChain) {\n",
    "    chatChain.push({\"role\": \"system\", \"content\": 'You are a good bot.'});\n",
    "    chatChain.reverse();\n",
    "    const completion = await openai.createChatCompletion({\n",
    "        model: \"gpt-3.5-turbo\",\n",
    "        messages: chatChain,\n",
    "        temperature: 0.3,\n",
    "    });\n",
    "\n",
    "    return completion.data.choices[0].message.content.trim();\n",
    "}"
   ]
  },
  {
   "cell_type": "code",
   "execution_count": null,
   "metadata": {
    "vscode": {
     "languageId": "javascript"
    }
   },
   "outputs": [],
   "source": [
    "\n",
    "export async function getContentFromHeadlessBrowser(url) {\n",
    "    const browser = await puppeteer.launch({ headless: true });\n",
    "    const page = await browser.newPage();\n",
    "    await page.goto(url);\n",
    "\n",
    "    const contentText = await page.evaluate(() => {\n",
    "        const element = document.body;\n",
    "        return element.innerText;\n",
    "      });\n",
    "\n",
    "    await browser.close();\n",
    "    return contentText;\n",
    "}\n",
    "\n",
    "export async function getUrlsFromDuckDuckGo(url) {\n",
    "    /* encode uri/url whatever it is */\n",
    "    url = encodeURI(url);\n",
    "\n",
    "    console.log(url)\n",
    "    const browser = await puppeteer.launch({ headless: true });\n",
    "    const page = await browser.newPage();\n",
    "    await page.goto(url);\n",
    "    const textSelector = await page.waitForSelector(\n",
    "        '.result__url'\n",
    "    );\n",
    "    const urls = await page.$$eval('.result__url', as => as.map(a => a.innerText));\n",
    "\n",
    "    await browser.close();\n",
    "    return urls;\n",
    "}"
   ]
  },
  {
   "cell_type": "code",
   "execution_count": null,
   "metadata": {
    "vscode": {
     "languageId": "javascript"
    }
   },
   "outputs": [],
   "source": [
    "let history = []; // very important\n",
    "\n",
    "async function ask(input) {\n",
    "    // step 1 Create search query from the input of the user\n",
    "    let searchTerm = await chat([{ content: `You are a search query maker. Give back a search query for this: ${input} }`, role: 'user' }, { content: `Only give back a short search query for all my questions`, role: 'user' }].concat(history));\n",
    "    searchTerm = searchTerm.replaceAll('\"', '');\n",
    "\n",
    "    // step 2 Extract urls from the search query\n",
    "    let urls = await getUrlsFromDuckDuckGo(`https://html.duckduckgo.com/html/?q=${searchTerm}`);\n",
    "\n",
    "    urls.forEach(url => {\n",
    "        url.trim();\n",
    "    });\n",
    "\n",
    "    // step 3 Extract the content from x amount of urls\n",
    "    let answers = [];\n",
    "\n",
    "    for (let i = 0; i < 3; i++) {\n",
    "        const url = urls[i];\n",
    "        let webContent = await getContentFromHeadlessBrowser(`https://${url}`);\n",
    "        // step 4 Make a summary of the content\n",
    "        answers.push(await chat([{ content: `Answer this question: ${input}\\r\\nWith a very detailed summary:\\r\\n${webContent.substring(0, 2048)}`, role: 'user' }].concat(history)) + ` source: *[${urls[i]}]*`);\n",
    "    }\n",
    "\n",
    "    // optional: step 5 Make a summary of all the summaries for the response\n",
    "    // let response = await chat([{ content: `Answer this question: ${input}\\r\\nUse the following information for the original question: ${answers}`, role: 'user' }].concat(history));\n",
    "\n",
    "    return answers.join(' ');\n",
    "}"
   ]
  },
  {
   "cell_type": "code",
   "execution_count": null,
   "metadata": {
    "vscode": {
     "languageId": "javascript"
    }
   },
   "outputs": [],
   "source": [
    "let input = 'What is the latest news on coronavirus?';\n",
    "let response = await ask(input);\n",
    "console.log(`Your answer on input:\\r\\n${response}`);\n",
    "history.push({ content: input, role: 'user' });\n",
    "history.push({ content: response, role: 'assistant' });\n",
    "\n",
    "let input2 = 'How many deaths?'; // it knows context from history\n",
    "let response2 = await ask(input2);\n",
    "console.log(`Your answer on input2:\\r\\n${response2}`);\n",
    "history.push({ content: input2, role: 'user' });\n",
    "history.push({ content: response2, role: 'assistant' });"
   ]
  }
 ],
 "metadata": {
  "language_info": {
   "name": "python"
  },
  "orig_nbformat": 4
 },
 "nbformat": 4,
 "nbformat_minor": 2
}
